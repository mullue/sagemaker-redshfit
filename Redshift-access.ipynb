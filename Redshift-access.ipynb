{
 "cells": [
  {
   "cell_type": "markdown",
   "id": "fdd720b7",
   "metadata": {},
   "source": [
    "## SageMaker에서 Redshift 연결하고 데이터 가져오기 (with Python)"
   ]
  },
  {
   "cell_type": "code",
   "execution_count": 1,
   "id": "a62fa8e6",
   "metadata": {},
   "outputs": [],
   "source": [
    "from __future__ import print_function\n",
    "import sys\n",
    "import base64\n",
    "import json\n",
    "from random import shuffle\n",
    "import random\n",
    "import datetime\n",
    "import os\n",
    "\n",
    "import boto3\n",
    "from botocore.exceptions import ClientError\n",
    "import sagemaker\n",
    "import s3fs\n",
    "import pandas as pd\n",
    "import numpy as np\n",
    "import matplotlib.pyplot as plt"
   ]
  },
  {
   "cell_type": "code",
   "execution_count": 2,
   "id": "23ad7a86",
   "metadata": {},
   "outputs": [],
   "source": [
    "sagemaker_session = sagemaker.Session()\n",
    "role = sagemaker.get_execution_role() \n",
    "region = sagemaker_session.boto_region_name\n",
    "\n",
    "s3_bucket = sagemaker.Session().default_bucket()  # replace with an existing bucket if needed\n",
    "s3_prefix = 'redshift-access-test'    # prefix used for all data stored within the bucket\n"
   ]
  },
  {
   "cell_type": "markdown",
   "id": "db2cc972",
   "metadata": {},
   "source": [
    "### 1. Postgres Adaptor(psycopg2) 사용하기\n",
    "- ref : https://www.psycopg.org/docs/"
   ]
  },
  {
   "cell_type": "code",
   "execution_count": 3,
   "id": "7ac767d6",
   "metadata": {},
   "outputs": [],
   "source": [
    "# pip install psycopg2-binary\n",
    "import psycopg2"
   ]
  },
  {
   "cell_type": "markdown",
   "id": "f1d6b706",
   "metadata": {},
   "source": [
    "- Common utility functions"
   ]
  },
  {
   "cell_type": "code",
   "execution_count": 4,
   "id": "6ca79d8b",
   "metadata": {},
   "outputs": [],
   "source": [
    "#uses session manager name to return connection and credential information\n",
    "def connection_info(db_creds):\n",
    "    session = boto3.session.Session()\n",
    "    client = session.client(service_name='secretsmanager')\n",
    "    get_secret_value_response = client.get_secret_value(SecretId=db_creds)\n",
    "    if 'SecretString' in get_secret_value_response:\n",
    "        secret = json.loads(get_secret_value_response['SecretString'])\n",
    "    else:\n",
    "        secret = json.loads(base64.b64decode(get_secret_value_response['SecretBinary']))\n",
    "    return secret\n",
    "\n",
    "#creates a connection to the cluster\n",
    "def get_connection(db,db_creds):\n",
    "    con_params = connection_info(db_creds)\n",
    "    print(\"Connection info retrieved from Secrets manager\")\n",
    "    rs_conn=psycopg2.connect(dbname=db, host=con_params['host'], port=con_params['port'], user=con_params['username'], password=con_params['password'])\n",
    "    cur = rs_conn.cursor()\n",
    "    cur.execute(\"set statement_timeout = 1200000;\")\n",
    "    print(\"Connected to {}\".format(db))\n",
    "\n",
    "    return cur\n",
    "\n",
    "#Close the connection to the cluster\n",
    "def close_cursor(cursor):\n",
    "    print(\"Connection closed\")\n",
    "    cursor.close()\n",
    "\n",
    "#submits a query to the cluster\n",
    "def run_command(cursor, statement):\n",
    "    cursor.execute(statement)\n",
    "    res = cursor.fetchall()\n",
    "    print(\"Query execution complete\")\n",
    "\n",
    "    return res\n"
   ]
  },
  {
   "cell_type": "code",
   "execution_count": 5,
   "id": "31e8611c",
   "metadata": {},
   "outputs": [
    {
     "name": "stdout",
     "output_type": "stream",
     "text": [
      "Connection info retrieved from Secrets manager\n",
      "Connected to nyctaxi\n",
      "Query execution complete\n",
      "Connection closed\n"
     ]
    }
   ],
   "source": [
    "db='nyctaxi'\n",
    "db_creds = 'nyctaxisecret'\n",
    "\n",
    "#get database connection\n",
    "cursor = get_connection(db,db_creds)\n",
    "\n",
    "#run each sql statement\n",
    "query_str = 'select sysdate;'\n",
    "query_str = 'select top 3 * from taxischema.nyc_greentaxi;'\n",
    "\n",
    "result = run_command(cursor, query_str)\n",
    "\n",
    "close_cursor(cursor) "
   ]
  },
  {
   "cell_type": "code",
   "execution_count": 6,
   "id": "ee28c1ca",
   "metadata": {},
   "outputs": [
    {
     "data": {
      "text/html": [
       "<div>\n",
       "<style scoped>\n",
       "    .dataframe tbody tr th:only-of-type {\n",
       "        vertical-align: middle;\n",
       "    }\n",
       "\n",
       "    .dataframe tbody tr th {\n",
       "        vertical-align: top;\n",
       "    }\n",
       "\n",
       "    .dataframe thead th {\n",
       "        text-align: right;\n",
       "    }\n",
       "</style>\n",
       "<table border=\"1\" class=\"dataframe\">\n",
       "  <thead>\n",
       "    <tr style=\"text-align: right;\">\n",
       "      <th></th>\n",
       "      <th>0</th>\n",
       "      <th>1</th>\n",
       "      <th>2</th>\n",
       "      <th>3</th>\n",
       "      <th>4</th>\n",
       "      <th>5</th>\n",
       "      <th>6</th>\n",
       "      <th>7</th>\n",
       "      <th>8</th>\n",
       "      <th>9</th>\n",
       "      <th>10</th>\n",
       "      <th>11</th>\n",
       "      <th>12</th>\n",
       "      <th>13</th>\n",
       "      <th>14</th>\n",
       "      <th>15</th>\n",
       "      <th>16</th>\n",
       "      <th>17</th>\n",
       "      <th>18</th>\n",
       "      <th>19</th>\n",
       "    </tr>\n",
       "  </thead>\n",
       "  <tbody>\n",
       "    <tr>\n",
       "      <th>0</th>\n",
       "      <td>1</td>\n",
       "      <td>2019-04-01 00:22:52</td>\n",
       "      <td>2019-04-01 00:30:52</td>\n",
       "      <td>N</td>\n",
       "      <td>1</td>\n",
       "      <td>255</td>\n",
       "      <td>112</td>\n",
       "      <td>4</td>\n",
       "      <td>1.30</td>\n",
       "      <td>7.50</td>\n",
       "      <td>0.50</td>\n",
       "      <td>0.50</td>\n",
       "      <td>1.00</td>\n",
       "      <td>0.00</td>\n",
       "      <td></td>\n",
       "      <td>0.30</td>\n",
       "      <td>9.80</td>\n",
       "      <td>1</td>\n",
       "      <td>1</td>\n",
       "      <td>0.00</td>\n",
       "    </tr>\n",
       "    <tr>\n",
       "      <th>1</th>\n",
       "      <td>1</td>\n",
       "      <td>2019-04-01 00:09:21</td>\n",
       "      <td>2019-04-01 00:18:24</td>\n",
       "      <td>N</td>\n",
       "      <td>1</td>\n",
       "      <td>74</td>\n",
       "      <td>147</td>\n",
       "      <td>1</td>\n",
       "      <td>2.70</td>\n",
       "      <td>10.50</td>\n",
       "      <td>0.50</td>\n",
       "      <td>0.50</td>\n",
       "      <td>0.00</td>\n",
       "      <td>0.00</td>\n",
       "      <td></td>\n",
       "      <td>0.30</td>\n",
       "      <td>11.80</td>\n",
       "      <td>2</td>\n",
       "      <td>1</td>\n",
       "      <td>0.00</td>\n",
       "    </tr>\n",
       "    <tr>\n",
       "      <th>2</th>\n",
       "      <td>1</td>\n",
       "      <td>2019-04-01 01:17:39</td>\n",
       "      <td>2019-04-01 01:24:41</td>\n",
       "      <td>N</td>\n",
       "      <td>1</td>\n",
       "      <td>129</td>\n",
       "      <td>129</td>\n",
       "      <td>1</td>\n",
       "      <td>0.70</td>\n",
       "      <td>6.00</td>\n",
       "      <td>0.50</td>\n",
       "      <td>0.50</td>\n",
       "      <td>0.00</td>\n",
       "      <td>0.00</td>\n",
       "      <td></td>\n",
       "      <td>0.30</td>\n",
       "      <td>7.30</td>\n",
       "      <td>2</td>\n",
       "      <td>1</td>\n",
       "      <td>0.00</td>\n",
       "    </tr>\n",
       "  </tbody>\n",
       "</table>\n",
       "</div>"
      ],
      "text/plain": [
       "  0                   1                   2  3   4    5    6   7     8   \\\n",
       "0  1 2019-04-01 00:22:52 2019-04-01 00:30:52  N   1  255  112   4  1.30   \n",
       "1  1 2019-04-01 00:09:21 2019-04-01 00:18:24  N   1   74  147   1  2.70   \n",
       "2  1 2019-04-01 01:17:39 2019-04-01 01:24:41  N   1  129  129   1  0.70   \n",
       "\n",
       "      9     10    11    12    13 14    15     16 17 18    19  \n",
       "0   7.50  0.50  0.50  1.00  0.00     0.30   9.80  1  1  0.00  \n",
       "1  10.50  0.50  0.50  0.00  0.00     0.30  11.80  2  1  0.00  \n",
       "2   6.00  0.50  0.50  0.00  0.00     0.30   7.30  2  1  0.00  "
      ]
     },
     "execution_count": 6,
     "metadata": {},
     "output_type": "execute_result"
    }
   ],
   "source": [
    "pd.DataFrame(result)"
   ]
  },
  {
   "cell_type": "markdown",
   "id": "08c555b7",
   "metadata": {},
   "source": [
    "### 2. boto3 의 redshift-data API 사용하기\n",
    "\n",
    "- ref : https://aws.amazon.com/ko/blogs/big-data/using-the-amazon-redshift-data-api-to-interact-from-an-amazon-sagemaker-jupyter-notebook/"
   ]
  },
  {
   "cell_type": "code",
   "execution_count": 7,
   "id": "435dafdf",
   "metadata": {},
   "outputs": [],
   "source": [
    "import botocore.session as s"
   ]
  },
  {
   "cell_type": "code",
   "execution_count": 8,
   "id": "fc702e82",
   "metadata": {},
   "outputs": [
    {
     "name": "stdout",
     "output_type": "stream",
     "text": [
      "Data API client successfully loaded\n"
     ]
    }
   ],
   "source": [
    "bc_session = s.get_session()\n",
    "\n",
    "session = boto3.Session(\n",
    "        botocore_session=bc_session,\n",
    "        region_name=region,\n",
    "    )\n",
    "\n",
    "# Setup the client\n",
    "client_redshift = session.client(\"redshift-data\")\n",
    "print(\"Data API client successfully loaded\")"
   ]
  },
  {
   "cell_type": "code",
   "execution_count": 9,
   "id": "76989b0a",
   "metadata": {},
   "outputs": [],
   "source": [
    "db='nyctaxi'\n",
    "db_creds = 'nyctaxisecret'\n",
    "\n",
    "def connection_info(db_creds):\n",
    "    session = boto3.session.Session()\n",
    "    client = session.client(service_name='secretsmanager')\n",
    "    get_secret_value_response = client.get_secret_value(SecretId=db_creds)\n",
    "    if 'SecretString' in get_secret_value_response:\n",
    "        secret = json.loads(get_secret_value_response['SecretString'])\n",
    "    else:\n",
    "        secret = json.loads(base64.b64decode(get_secret_value_response['SecretBinary']))\n",
    "\n",
    "    return secret, get_secret_value_response['ARN']\n",
    "\n",
    "secrets, secret_arn = connection_info(db_creds)"
   ]
  },
  {
   "cell_type": "code",
   "execution_count": 10,
   "id": "70ae6a7d",
   "metadata": {},
   "outputs": [
    {
     "name": "stdout",
     "output_type": "stream",
     "text": [
      "Cluster_id: redshiftcluster-f0csvykgqnfu\n",
      "DB: nyctaxi\n",
      "Secret ARN: arn:aws:secretsmanager:us-east-1:308961792850:secret:nyctaxisecret-QHzY9o\n"
     ]
    }
   ],
   "source": [
    "cluster_id=secrets['dbClusterIdentifier']\n",
    "print(\"Cluster_id: \" + cluster_id + \"\\nDB: \" + db + \"\\nSecret ARN: \" + secret_arn)"
   ]
  },
  {
   "cell_type": "code",
   "execution_count": 11,
   "id": "e3e55c6f",
   "metadata": {},
   "outputs": [
    {
     "data": {
      "text/plain": [
       "['catalog_history',\n",
       " 'information_schema',\n",
       " 'pg_automv',\n",
       " 'pg_catalog',\n",
       " 'pg_internal',\n",
       " 'public',\n",
       " 'spectrum_schema',\n",
       " 'taxischema']"
      ]
     },
     "execution_count": 11,
     "metadata": {},
     "output_type": "execute_result"
    }
   ],
   "source": [
    "client_redshift.list_schemas(\n",
    "    Database= db, \n",
    "    SecretArn= secret_arn, \n",
    "    ClusterIdentifier= cluster_id)[\"Schemas\"]"
   ]
  },
  {
   "cell_type": "code",
   "execution_count": 12,
   "id": "3793fb43",
   "metadata": {},
   "outputs": [
    {
     "data": {
      "text/plain": [
       "[{'name': 'nyc_greentaxi', 'schema': 'taxischema', 'type': 'TABLE'}]"
      ]
     },
     "execution_count": 12,
     "metadata": {},
     "output_type": "execute_result"
    }
   ],
   "source": [
    "client_redshift.list_tables(\n",
    "    Database= db, \n",
    "    SecretArn= secret_arn, \n",
    "    SchemaPattern='taxischema',\n",
    "    ClusterIdentifier= cluster_id)[\"Tables\"]"
   ]
  },
  {
   "cell_type": "markdown",
   "id": "e96f5152",
   "metadata": {},
   "source": [
    "- Custom waiter"
   ]
  },
  {
   "cell_type": "code",
   "execution_count": 13,
   "id": "33c44f6d",
   "metadata": {},
   "outputs": [],
   "source": [
    "from botocore.exceptions import WaiterError\n",
    "from botocore.waiter import WaiterModel\n",
    "from botocore.waiter import create_waiter_with_client"
   ]
  },
  {
   "cell_type": "code",
   "execution_count": 14,
   "id": "c8c7a74c",
   "metadata": {},
   "outputs": [],
   "source": [
    "# Create custom waiter for the Redshift Data API to wait for finish execution of current SQL statement\n",
    "waiter_name = 'DataAPIExecution'\n",
    "\n",
    "delay=2\n",
    "max_attempts=3\n",
    "\n",
    "#Configure the waiter settings\n",
    "waiter_config = {\n",
    "  'version': 2,\n",
    "  'waiters': {\n",
    "    'DataAPIExecution': {\n",
    "      'operation': 'DescribeStatement',\n",
    "      'delay': delay,\n",
    "      'maxAttempts': max_attempts,\n",
    "      'acceptors': [\n",
    "        {\n",
    "          \"matcher\": \"path\",\n",
    "          \"expected\": \"FINISHED\",\n",
    "          \"argument\": \"Status\",\n",
    "          \"state\": \"success\"\n",
    "        },\n",
    "        {\n",
    "          \"matcher\": \"pathAny\",\n",
    "          \"expected\": [\"PICKED\",\"STARTED\",\"SUBMITTED\"],\n",
    "          \"argument\": \"Status\",\n",
    "          \"state\": \"retry\"\n",
    "        },\n",
    "        {\n",
    "          \"matcher\": \"pathAny\",\n",
    "          \"expected\": [\"FAILED\",\"ABORTED\"],\n",
    "          \"argument\": \"Status\",\n",
    "          \"state\": \"failure\"\n",
    "        }\n",
    "      ],\n",
    "    },\n",
    "  },\n",
    "}"
   ]
  },
  {
   "cell_type": "code",
   "execution_count": 15,
   "id": "9f34cfee",
   "metadata": {},
   "outputs": [],
   "source": [
    "waiter_model = WaiterModel(waiter_config)\n",
    "custom_waiter = create_waiter_with_client(waiter_name, waiter_model, client_redshift)"
   ]
  },
  {
   "cell_type": "markdown",
   "id": "b2014165",
   "metadata": {},
   "source": [
    "- Run query"
   ]
  },
  {
   "cell_type": "code",
   "execution_count": 16,
   "id": "bc937f67",
   "metadata": {},
   "outputs": [
    {
     "name": "stdout",
     "output_type": "stream",
     "text": [
      "Redshift Data API execution  started ...\n",
      "Done waiting to finish Data API.\n",
      "Status: FINISHED. Excution time: 52 miliseconds\n"
     ]
    }
   ],
   "source": [
    "query_str = 'select sysdate;'\n",
    "query_str = 'select top 3 * from taxischema.nyc_greentaxi;'\n",
    "\n",
    "res = client_redshift.execute_statement(Database= db, SecretArn= secret_arn, Sql= query_str, ClusterIdentifier= cluster_id)\n",
    "print(\"Redshift Data API execution  started ...\")\n",
    "id=res[\"Id\"]\n",
    "\n",
    "# Waiter in try block and wait for DATA API to return\n",
    "try:\n",
    "    custom_waiter.wait(Id=id)\n",
    "    print(\"Done waiting to finish Data API.\")\n",
    "except WaiterError as e:\n",
    "    print (e)\n",
    "    \n",
    "desc=client_redshift.describe_statement(Id=id)\n",
    "print(\"Status: \" + desc[\"Status\"] + \". Excution time: %d miliseconds\" %float(desc[\"Duration\"]/pow(10,6)))"
   ]
  },
  {
   "cell_type": "code",
   "execution_count": 17,
   "id": "8a8155db",
   "metadata": {},
   "outputs": [
    {
     "data": {
      "text/plain": [
       "{'ClusterIdentifier': 'redshiftcluster-f0csvykgqnfu',\n",
       " 'CreatedAt': datetime.datetime(2022, 7, 16, 1, 35, 8, 185000, tzinfo=tzlocal()),\n",
       " 'Database': 'nyctaxi',\n",
       " 'Id': '16e12ee0-15a0-44e2-bfc2-f922401cd5c7',\n",
       " 'SecretArn': 'arn:aws:secretsmanager:us-east-1:308961792850:secret:nyctaxisecret-QHzY9o',\n",
       " 'ResponseMetadata': {'RequestId': '290b7079-f67e-4874-957e-72a57f1ec4a6',\n",
       "  'HTTPStatusCode': 200,\n",
       "  'HTTPHeaders': {'x-amzn-requestid': '290b7079-f67e-4874-957e-72a57f1ec4a6',\n",
       "   'content-type': 'application/x-amz-json-1.1',\n",
       "   'content-length': '234',\n",
       "   'date': 'Sat, 16 Jul 2022 01:35:08 GMT'},\n",
       "  'RetryAttempts': 0}}"
      ]
     },
     "execution_count": 17,
     "metadata": {},
     "output_type": "execute_result"
    }
   ],
   "source": [
    "res"
   ]
  },
  {
   "cell_type": "code",
   "execution_count": 18,
   "id": "f21cbb6e",
   "metadata": {},
   "outputs": [
    {
     "name": "stdout",
     "output_type": "stream",
     "text": [
      "3 20\n"
     ]
    }
   ],
   "source": [
    "output = client_redshift.get_statement_result(Id=id)\n",
    "\n",
    "nrows=output[\"TotalNumRows\"]\n",
    "ncols=len(output[\"ColumnMetadata\"])\n",
    "\n",
    "print(nrows, ncols)"
   ]
  },
  {
   "cell_type": "code",
   "execution_count": 19,
   "id": "ed0d3e1c",
   "metadata": {},
   "outputs": [
    {
     "data": {
      "text/plain": [
       "['vendorid',\n",
       " 'lpep_pickup_datetime',\n",
       " 'lpep_dropoff_datetime',\n",
       " 'store_and_fwd_flag',\n",
       " 'ratecodeid',\n",
       " 'pulocationid',\n",
       " 'dolocationid',\n",
       " 'passenger_count',\n",
       " 'trip_distance',\n",
       " 'fare_amount',\n",
       " 'extra',\n",
       " 'mta_tax',\n",
       " 'tip_amount',\n",
       " 'tolls_amount',\n",
       " 'ehail_fee',\n",
       " 'improvement_surcharge',\n",
       " 'total_amount',\n",
       " 'payment_type',\n",
       " 'trip_type',\n",
       " 'congestion_surcharge']"
      ]
     },
     "execution_count": 19,
     "metadata": {},
     "output_type": "execute_result"
    }
   ],
   "source": [
    "col_labels=[]\n",
    "for i in range(ncols): col_labels.append(output[\"ColumnMetadata\"][i]['label'])\n",
    "col_labels"
   ]
  },
  {
   "cell_type": "code",
   "execution_count": 20,
   "id": "b22671cf",
   "metadata": {},
   "outputs": [
    {
     "data": {
      "text/plain": [
       "[[{'stringValue': '1'},\n",
       "  {'stringValue': '2019-04-01 00:04:42'},\n",
       "  {'stringValue': '2019-04-01 00:16:50'},\n",
       "  {'stringValue': 'N'},\n",
       "  {'longValue': 1},\n",
       "  {'longValue': 7},\n",
       "  {'longValue': 129},\n",
       "  {'longValue': 1},\n",
       "  {'stringValue': '3.10'},\n",
       "  {'stringValue': '12.00'},\n",
       "  {'stringValue': '0.50'},\n",
       "  {'stringValue': '0.50'},\n",
       "  {'stringValue': '0.00'},\n",
       "  {'stringValue': '0.00'},\n",
       "  {'stringValue': ''},\n",
       "  {'stringValue': '0.30'},\n",
       "  {'stringValue': '13.30'},\n",
       "  {'stringValue': '2'},\n",
       "  {'stringValue': '1'},\n",
       "  {'stringValue': '0.00'}],\n",
       " [{'stringValue': '1'},\n",
       "  {'stringValue': '2019-04-01 00:40:52'},\n",
       "  {'stringValue': '2019-04-01 01:09:59'},\n",
       "  {'stringValue': 'N'},\n",
       "  {'longValue': 1},\n",
       "  {'longValue': 65},\n",
       "  {'longValue': 239},\n",
       "  {'longValue': 1},\n",
       "  {'stringValue': '8.70'},\n",
       "  {'stringValue': '28.00'},\n",
       "  {'stringValue': '3.25'},\n",
       "  {'stringValue': '0.50'},\n",
       "  {'stringValue': '6.40'},\n",
       "  {'stringValue': '0.00'},\n",
       "  {'stringValue': ''},\n",
       "  {'stringValue': '0.30'},\n",
       "  {'stringValue': '38.45'},\n",
       "  {'stringValue': '1'},\n",
       "  {'stringValue': '1'},\n",
       "  {'stringValue': '2.75'}],\n",
       " [{'stringValue': '1'},\n",
       "  {'stringValue': '2019-04-01 00:04:30'},\n",
       "  {'stringValue': '2019-04-01 00:07:46'},\n",
       "  {'stringValue': 'N'},\n",
       "  {'longValue': 1},\n",
       "  {'longValue': 223},\n",
       "  {'longValue': 223},\n",
       "  {'longValue': 1},\n",
       "  {'stringValue': '0.90'},\n",
       "  {'stringValue': '5.00'},\n",
       "  {'stringValue': '0.50'},\n",
       "  {'stringValue': '0.50'},\n",
       "  {'stringValue': '0.00'},\n",
       "  {'stringValue': '0.00'},\n",
       "  {'stringValue': ''},\n",
       "  {'stringValue': '0.30'},\n",
       "  {'stringValue': '6.30'},\n",
       "  {'stringValue': '2'},\n",
       "  {'stringValue': '1'},\n",
       "  {'stringValue': '0.00'}]]"
      ]
     },
     "execution_count": 20,
     "metadata": {},
     "output_type": "execute_result"
    }
   ],
   "source": [
    "records = output['Records']\n",
    "records"
   ]
  },
  {
   "cell_type": "code",
   "execution_count": 21,
   "id": "a432f975",
   "metadata": {},
   "outputs": [
    {
     "data": {
      "text/plain": [
       "[['1',\n",
       "  '2019-04-01 00:04:42',\n",
       "  '2019-04-01 00:16:50',\n",
       "  'N',\n",
       "  1,\n",
       "  7,\n",
       "  129,\n",
       "  1,\n",
       "  '3.10',\n",
       "  '12.00',\n",
       "  '0.50',\n",
       "  '0.50',\n",
       "  '0.00',\n",
       "  '0.00',\n",
       "  '',\n",
       "  '0.30',\n",
       "  '13.30',\n",
       "  '2',\n",
       "  '1',\n",
       "  '0.00'],\n",
       " ['1',\n",
       "  '2019-04-01 00:40:52',\n",
       "  '2019-04-01 01:09:59',\n",
       "  'N',\n",
       "  1,\n",
       "  65,\n",
       "  239,\n",
       "  1,\n",
       "  '8.70',\n",
       "  '28.00',\n",
       "  '3.25',\n",
       "  '0.50',\n",
       "  '6.40',\n",
       "  '0.00',\n",
       "  '',\n",
       "  '0.30',\n",
       "  '38.45',\n",
       "  '1',\n",
       "  '1',\n",
       "  '2.75'],\n",
       " ['1',\n",
       "  '2019-04-01 00:04:30',\n",
       "  '2019-04-01 00:07:46',\n",
       "  'N',\n",
       "  1,\n",
       "  223,\n",
       "  223,\n",
       "  1,\n",
       "  '0.90',\n",
       "  '5.00',\n",
       "  '0.50',\n",
       "  '0.50',\n",
       "  '0.00',\n",
       "  '0.00',\n",
       "  '',\n",
       "  '0.30',\n",
       "  '6.30',\n",
       "  '2',\n",
       "  '1',\n",
       "  '0.00']]"
      ]
     },
     "execution_count": 21,
     "metadata": {},
     "output_type": "execute_result"
    }
   ],
   "source": [
    "contents=[]\n",
    "for i in range(nrows): \n",
    "    content=[]\n",
    "    for j in range(ncols):\n",
    "        content.append(*records[i][j].values())\n",
    "    contents.append(content)\n",
    "contents"
   ]
  },
  {
   "cell_type": "code",
   "execution_count": 22,
   "id": "9923ddbf",
   "metadata": {},
   "outputs": [
    {
     "data": {
      "text/html": [
       "<div>\n",
       "<style scoped>\n",
       "    .dataframe tbody tr th:only-of-type {\n",
       "        vertical-align: middle;\n",
       "    }\n",
       "\n",
       "    .dataframe tbody tr th {\n",
       "        vertical-align: top;\n",
       "    }\n",
       "\n",
       "    .dataframe thead th {\n",
       "        text-align: right;\n",
       "    }\n",
       "</style>\n",
       "<table border=\"1\" class=\"dataframe\">\n",
       "  <thead>\n",
       "    <tr style=\"text-align: right;\">\n",
       "      <th></th>\n",
       "      <th>vendorid</th>\n",
       "      <th>lpep_pickup_datetime</th>\n",
       "      <th>lpep_dropoff_datetime</th>\n",
       "      <th>store_and_fwd_flag</th>\n",
       "      <th>ratecodeid</th>\n",
       "      <th>pulocationid</th>\n",
       "      <th>dolocationid</th>\n",
       "      <th>passenger_count</th>\n",
       "      <th>trip_distance</th>\n",
       "      <th>fare_amount</th>\n",
       "      <th>extra</th>\n",
       "      <th>mta_tax</th>\n",
       "      <th>tip_amount</th>\n",
       "      <th>tolls_amount</th>\n",
       "      <th>ehail_fee</th>\n",
       "      <th>improvement_surcharge</th>\n",
       "      <th>total_amount</th>\n",
       "      <th>payment_type</th>\n",
       "      <th>trip_type</th>\n",
       "      <th>congestion_surcharge</th>\n",
       "    </tr>\n",
       "  </thead>\n",
       "  <tbody>\n",
       "    <tr>\n",
       "      <th>0</th>\n",
       "      <td>1</td>\n",
       "      <td>2019-04-01 00:04:42</td>\n",
       "      <td>2019-04-01 00:16:50</td>\n",
       "      <td>N</td>\n",
       "      <td>1</td>\n",
       "      <td>7</td>\n",
       "      <td>129</td>\n",
       "      <td>1</td>\n",
       "      <td>3.10</td>\n",
       "      <td>12.00</td>\n",
       "      <td>0.50</td>\n",
       "      <td>0.50</td>\n",
       "      <td>0.00</td>\n",
       "      <td>0.00</td>\n",
       "      <td></td>\n",
       "      <td>0.30</td>\n",
       "      <td>13.30</td>\n",
       "      <td>2</td>\n",
       "      <td>1</td>\n",
       "      <td>0.00</td>\n",
       "    </tr>\n",
       "    <tr>\n",
       "      <th>1</th>\n",
       "      <td>1</td>\n",
       "      <td>2019-04-01 00:40:52</td>\n",
       "      <td>2019-04-01 01:09:59</td>\n",
       "      <td>N</td>\n",
       "      <td>1</td>\n",
       "      <td>65</td>\n",
       "      <td>239</td>\n",
       "      <td>1</td>\n",
       "      <td>8.70</td>\n",
       "      <td>28.00</td>\n",
       "      <td>3.25</td>\n",
       "      <td>0.50</td>\n",
       "      <td>6.40</td>\n",
       "      <td>0.00</td>\n",
       "      <td></td>\n",
       "      <td>0.30</td>\n",
       "      <td>38.45</td>\n",
       "      <td>1</td>\n",
       "      <td>1</td>\n",
       "      <td>2.75</td>\n",
       "    </tr>\n",
       "    <tr>\n",
       "      <th>2</th>\n",
       "      <td>1</td>\n",
       "      <td>2019-04-01 00:04:30</td>\n",
       "      <td>2019-04-01 00:07:46</td>\n",
       "      <td>N</td>\n",
       "      <td>1</td>\n",
       "      <td>223</td>\n",
       "      <td>223</td>\n",
       "      <td>1</td>\n",
       "      <td>0.90</td>\n",
       "      <td>5.00</td>\n",
       "      <td>0.50</td>\n",
       "      <td>0.50</td>\n",
       "      <td>0.00</td>\n",
       "      <td>0.00</td>\n",
       "      <td></td>\n",
       "      <td>0.30</td>\n",
       "      <td>6.30</td>\n",
       "      <td>2</td>\n",
       "      <td>1</td>\n",
       "      <td>0.00</td>\n",
       "    </tr>\n",
       "  </tbody>\n",
       "</table>\n",
       "</div>"
      ],
      "text/plain": [
       "  vendorid lpep_pickup_datetime lpep_dropoff_datetime store_and_fwd_flag  \\\n",
       "0        1  2019-04-01 00:04:42   2019-04-01 00:16:50                  N   \n",
       "1        1  2019-04-01 00:40:52   2019-04-01 01:09:59                  N   \n",
       "2        1  2019-04-01 00:04:30   2019-04-01 00:07:46                  N   \n",
       "\n",
       "   ratecodeid  pulocationid  dolocationid  passenger_count trip_distance  \\\n",
       "0           1             7           129                1          3.10   \n",
       "1           1            65           239                1          8.70   \n",
       "2           1           223           223                1          0.90   \n",
       "\n",
       "  fare_amount extra mta_tax tip_amount tolls_amount ehail_fee  \\\n",
       "0       12.00  0.50    0.50       0.00         0.00             \n",
       "1       28.00  3.25    0.50       6.40         0.00             \n",
       "2        5.00  0.50    0.50       0.00         0.00             \n",
       "\n",
       "  improvement_surcharge total_amount payment_type trip_type  \\\n",
       "0                  0.30        13.30            2         1   \n",
       "1                  0.30        38.45            1         1   \n",
       "2                  0.30         6.30            2         1   \n",
       "\n",
       "  congestion_surcharge  \n",
       "0                 0.00  \n",
       "1                 2.75  \n",
       "2                 0.00  "
      ]
     },
     "execution_count": 22,
     "metadata": {},
     "output_type": "execute_result"
    }
   ],
   "source": [
    "pd.DataFrame(contents, columns=col_labels)"
   ]
  },
  {
   "cell_type": "code",
   "execution_count": null,
   "id": "d869ed04",
   "metadata": {},
   "outputs": [],
   "source": []
  }
 ],
 "metadata": {
  "kernelspec": {
   "display_name": "conda_python3",
   "language": "python",
   "name": "conda_python3"
  },
  "language_info": {
   "codemirror_mode": {
    "name": "ipython",
    "version": 3
   },
   "file_extension": ".py",
   "mimetype": "text/x-python",
   "name": "python",
   "nbconvert_exporter": "python",
   "pygments_lexer": "ipython3",
   "version": "3.8.12"
  }
 },
 "nbformat": 4,
 "nbformat_minor": 5
}
